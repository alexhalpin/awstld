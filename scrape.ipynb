{
 "cells": [
  {
   "cell_type": "code",
   "execution_count": 108,
   "metadata": {},
   "outputs": [],
   "source": [
    "from bs4 import BeautifulSoup\n",
    "import requests\n",
    "import re"
   ]
  },
  {
   "cell_type": "code",
   "execution_count": 109,
   "metadata": {},
   "outputs": [],
   "source": [
    "url = \"https://docs.aws.amazon.com/Route53/latest/DeveloperGuide/registrar-tld-list.html\"\n",
    "r = requests.get(url)\n",
    "soup = BeautifulSoup(r.text)"
   ]
  },
  {
   "cell_type": "code",
   "execution_count": 110,
   "metadata": {},
   "outputs": [],
   "source": [
    "link_expr = r\"^\\./([a-z.]+[a-z])(-xref)?\\.html$\"\n",
    "text_expr = r\"^\\.([a-z.]+[a-z])[ ]?\""
   ]
  },
  {
   "cell_type": "code",
   "execution_count": 111,
   "metadata": {},
   "outputs": [],
   "source": [
    "tlds = []\n",
    "for a in soup.find_all('a'):\n",
    "    link = a.get('href')\n",
    "    link_search = re.search(link_expr, link)\n",
    "\n",
    "    if link_search:\n",
    "        text = a.text\n",
    "        text_search = re.search(text_expr, text)\n",
    "\n",
    "        if text_search:\n",
    "            link_tld = link_search.groups()[0]\n",
    "            text_tld = text_search.groups()[0]\n",
    "\n",
    "            if link_tld == text_tld:\n",
    "                tlds.append(f\".{link_tld}\")"
   ]
  },
  {
   "cell_type": "code",
   "execution_count": 115,
   "metadata": {},
   "outputs": [],
   "source": [
    "with open(\"aws_tlds.txt\", \"w\") as f:\n",
    "    f.writelines([f\"{tld}\\n\" for tld in tlds])"
   ]
  }
 ],
 "metadata": {
  "kernelspec": {
   "display_name": "scratch",
   "language": "python",
   "name": "python3"
  },
  "language_info": {
   "codemirror_mode": {
    "name": "ipython",
    "version": 3
   },
   "file_extension": ".py",
   "mimetype": "text/x-python",
   "name": "python",
   "nbconvert_exporter": "python",
   "pygments_lexer": "ipython3",
   "version": "3.12.2"
  }
 },
 "nbformat": 4,
 "nbformat_minor": 2
}
